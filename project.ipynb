{
 "cells": [
  {
   "cell_type": "code",
   "execution_count": 1,
   "metadata": {},
   "outputs": [],
   "source": [
    "import pandas as pd"
   ]
  },
  {
   "cell_type": "code",
   "execution_count": 2,
   "metadata": {},
   "outputs": [],
   "source": [
    "import spacy\n",
    "from spacy.tokens import Doc"
   ]
  },
  {
   "cell_type": "code",
   "execution_count": 3,
   "metadata": {},
   "outputs": [
    {
     "data": {
      "text/plain": [
       "True"
      ]
     },
     "execution_count": 3,
     "metadata": {},
     "output_type": "execute_result"
    }
   ],
   "source": [
    "spacy.require_gpu()"
   ]
  },
  {
   "cell_type": "code",
   "execution_count": 4,
   "metadata": {},
   "outputs": [],
   "source": [
    "nlp = spacy.load(\"C:/project/spacy_pipeline\")"
   ]
  },
  {
   "cell_type": "code",
   "execution_count": 5,
   "metadata": {},
   "outputs": [
    {
     "data": {
      "text/plain": [
       "<spacy.pipeline.sentencizer.Sentencizer at 0x214a3545f80>"
      ]
     },
     "execution_count": 5,
     "metadata": {},
     "output_type": "execute_result"
    }
   ],
   "source": [
    "nlp.add_pipe(\"sentencizer\", first=True)"
   ]
  },
  {
   "cell_type": "code",
   "execution_count": 6,
   "metadata": {},
   "outputs": [
    {
     "name": "stdout",
     "output_type": "stream",
     "text": [
      "['sentencizer', 'transformer', 'tagger', 'ner']\n"
     ]
    }
   ],
   "source": [
    "print(nlp.pipe_names)"
   ]
  },
  {
   "cell_type": "code",
   "execution_count": 7,
   "metadata": {},
   "outputs": [],
   "source": [
    "fake_news = pd.read_csv(\"Fake.csv\")\n",
    "real_news = pd.read_csv(\"True.csv\")"
   ]
  },
  {
   "cell_type": "code",
   "execution_count": 8,
   "metadata": {},
   "outputs": [],
   "source": [
    "fake_news[\"text\"] = fake_news[\"text\"].str.replace(\n",
    "    r'^.*?\\([^)]*\\)\\s*-\\s*',\n",
    "    '',\n",
    "    regex=True\n",
    ")\n",
    "\n",
    "real_news[\"text\"] = real_news[\"text\"].str.replace(\n",
    "    r'^.*?\\([^)]*\\)\\s*-\\s*',\n",
    "    '',\n",
    "    regex=True\n",
    ")"
   ]
  },
  {
   "cell_type": "code",
   "execution_count": 9,
   "metadata": {},
   "outputs": [],
   "source": [
    "fake_articles = fake_news[\"text\"]\n",
    "real_articles = real_news[\"text\"]"
   ]
  },
  {
   "cell_type": "code",
   "execution_count": 10,
   "metadata": {},
   "outputs": [],
   "source": [
    "def get_count(doc):\n",
    "    pos_count = {}\n",
    "    ent_count = {}\n",
    "    \n",
    "    pos = [token.tag_ for token in doc]\n",
    "    ents = [token.ent_type_ for token in doc]\n",
    "    \n",
    "    for tag in pos:\n",
    "        if tag in pos_count:\n",
    "            pos_count[tag] += 1\n",
    "        else:\n",
    "            pos_count[tag] = 1\n",
    "    \n",
    "    for tag in ents:\n",
    "        if tag in ent_count:\n",
    "            ent_count[tag] += 1\n",
    "        else:\n",
    "            ent_count[tag] = 1\n",
    "    \n",
    "    return pos_count, ent_count"
   ]
  },
  {
   "cell_type": "code",
   "execution_count": 11,
   "metadata": {},
   "outputs": [],
   "source": [
    "def get_embedding(doc):\n",
    "    tensor = doc._.trf_data.tensors[0]  \n",
    "    contextual_embedding = tensor[0, 0, :]     \n",
    "    return contextual_embedding"
   ]
  },
  {
   "cell_type": "code",
   "execution_count": null,
   "metadata": {},
   "outputs": [],
   "source": [
    "def get_features(doc):\n",
    "    pos_tags = [\"NOUN\", \"VERB\", \"ADJ\", \"ADV\", \"PRON\"]\n",
    "    ent_tags = [\"PER\", \"ORG\", \"LOC\"]\n",
    "\n",
    "    pos, ent = get_count(doc)\n",
    "    pos_count = [pos.get(tag, 0) for tag in pos_tags]\n",
    "    ent_count = [ent.get(tag, 0) for tag in ent_tags]\n",
    "    \n",
    "    token_count = len(doc)\n",
    "\n",
    "    contextual_embedding = get_embedding(doc)\n",
    "\n",
    "    features = {f'{tag}': count for tag, count in zip(pos_tags, pos_count)}\n",
    "    features.update({f'{tag}': count for tag, count in zip(ent_tags, ent_count)})\n",
    "    features['token_count'] = token_count\n",
    "    \n",
    "    for i, embedding in enumerate(contextual_embedding):\n",
    "        if hasattr(embedding, 'get'):\n",
    "            embedding = embedding.get()\n",
    "        \n",
    "        features[f'emb_{i}'] = embedding\n",
    "\n",
    "    return pd.Series(features)"
   ]
  },
  {
   "cell_type": "code",
   "execution_count": 16,
   "metadata": {},
   "outputs": [
    {
     "name": "stderr",
     "output_type": "stream",
     "text": [
      "Token indices sequence length is longer than the specified maximum sequence length for this model (1736 > 512). Running this sequence through the model will result in indexing errors\n"
     ]
    }
   ],
   "source": [
    "fake_features = []\n",
    "for doc in nlp.pipe(fake_articles, batch_size=64):\n",
    "    features = get_features(doc)\n",
    "    fake_features.append(features)\n",
    "\n",
    "fake_df = pd.DataFrame(fake_features)"
   ]
  },
  {
   "cell_type": "code",
   "execution_count": 17,
   "metadata": {},
   "outputs": [
    {
     "data": {
      "text/plain": [
       "(23481, 777)"
      ]
     },
     "execution_count": 17,
     "metadata": {},
     "output_type": "execute_result"
    }
   ],
   "source": [
    "fake_df.shape"
   ]
  },
  {
   "cell_type": "code",
   "execution_count": 18,
   "metadata": {},
   "outputs": [
    {
     "data": {
      "text/html": [
       "<div>\n",
       "<style scoped>\n",
       "    .dataframe tbody tr th:only-of-type {\n",
       "        vertical-align: middle;\n",
       "    }\n",
       "\n",
       "    .dataframe tbody tr th {\n",
       "        vertical-align: top;\n",
       "    }\n",
       "\n",
       "    .dataframe thead th {\n",
       "        text-align: right;\n",
       "    }\n",
       "</style>\n",
       "<table border=\"1\" class=\"dataframe\">\n",
       "  <thead>\n",
       "    <tr style=\"text-align: right;\">\n",
       "      <th></th>\n",
       "      <th>NOUN</th>\n",
       "      <th>VERB</th>\n",
       "      <th>ADJ</th>\n",
       "      <th>ADV</th>\n",
       "      <th>PRON</th>\n",
       "      <th>PER</th>\n",
       "      <th>ORG</th>\n",
       "      <th>LOC</th>\n",
       "      <th>token_count</th>\n",
       "      <th>emb_0</th>\n",
       "      <th>...</th>\n",
       "      <th>emb_758</th>\n",
       "      <th>emb_759</th>\n",
       "      <th>emb_760</th>\n",
       "      <th>emb_761</th>\n",
       "      <th>emb_762</th>\n",
       "      <th>emb_763</th>\n",
       "      <th>emb_764</th>\n",
       "      <th>emb_765</th>\n",
       "      <th>emb_766</th>\n",
       "      <th>emb_767</th>\n",
       "    </tr>\n",
       "  </thead>\n",
       "  <tbody>\n",
       "    <tr>\n",
       "      <th>0</th>\n",
       "      <td>70</td>\n",
       "      <td>63</td>\n",
       "      <td>32</td>\n",
       "      <td>30</td>\n",
       "      <td>49</td>\n",
       "      <td>19</td>\n",
       "      <td>38</td>\n",
       "      <td>13</td>\n",
       "      <td>621</td>\n",
       "      <td>0.49166468</td>\n",
       "      <td>...</td>\n",
       "      <td>-0.99469244</td>\n",
       "      <td>-0.9691234</td>\n",
       "      <td>-1.1756288</td>\n",
       "      <td>-0.28396177</td>\n",
       "      <td>0.38695464</td>\n",
       "      <td>-0.21877588</td>\n",
       "      <td>-0.36717254</td>\n",
       "      <td>-0.67960757</td>\n",
       "      <td>-0.73541623</td>\n",
       "      <td>-0.17068739</td>\n",
       "    </tr>\n",
       "    <tr>\n",
       "      <th>1</th>\n",
       "      <td>60</td>\n",
       "      <td>32</td>\n",
       "      <td>24</td>\n",
       "      <td>11</td>\n",
       "      <td>15</td>\n",
       "      <td>23</td>\n",
       "      <td>15</td>\n",
       "      <td>10</td>\n",
       "      <td>352</td>\n",
       "      <td>0.7399958</td>\n",
       "      <td>...</td>\n",
       "      <td>-1.0174954</td>\n",
       "      <td>-1.4178197</td>\n",
       "      <td>-1.3892937</td>\n",
       "      <td>-0.14997888</td>\n",
       "      <td>0.47479692</td>\n",
       "      <td>-0.29169118</td>\n",
       "      <td>-0.5290003</td>\n",
       "      <td>-1.0338486</td>\n",
       "      <td>-0.9278441</td>\n",
       "      <td>-0.025926411</td>\n",
       "    </tr>\n",
       "    <tr>\n",
       "      <th>2</th>\n",
       "      <td>113</td>\n",
       "      <td>78</td>\n",
       "      <td>31</td>\n",
       "      <td>23</td>\n",
       "      <td>70</td>\n",
       "      <td>22</td>\n",
       "      <td>31</td>\n",
       "      <td>13</td>\n",
       "      <td>710</td>\n",
       "      <td>0.87741137</td>\n",
       "      <td>...</td>\n",
       "      <td>-0.74752975</td>\n",
       "      <td>-1.3563344</td>\n",
       "      <td>-1.4687192</td>\n",
       "      <td>-0.24174379</td>\n",
       "      <td>0.39115188</td>\n",
       "      <td>-0.2931207</td>\n",
       "      <td>-0.64882225</td>\n",
       "      <td>-0.80387855</td>\n",
       "      <td>-0.960147</td>\n",
       "      <td>-0.11864097</td>\n",
       "    </tr>\n",
       "    <tr>\n",
       "      <th>3</th>\n",
       "      <td>82</td>\n",
       "      <td>55</td>\n",
       "      <td>18</td>\n",
       "      <td>26</td>\n",
       "      <td>30</td>\n",
       "      <td>26</td>\n",
       "      <td>9</td>\n",
       "      <td>5</td>\n",
       "      <td>541</td>\n",
       "      <td>0.75685537</td>\n",
       "      <td>...</td>\n",
       "      <td>-0.69399625</td>\n",
       "      <td>-1.4524714</td>\n",
       "      <td>-1.4473013</td>\n",
       "      <td>-0.24620362</td>\n",
       "      <td>0.3863606</td>\n",
       "      <td>-0.24031949</td>\n",
       "      <td>-0.7331426</td>\n",
       "      <td>-1.1221443</td>\n",
       "      <td>-1.04414</td>\n",
       "      <td>-0.008274795</td>\n",
       "    </tr>\n",
       "    <tr>\n",
       "      <th>4</th>\n",
       "      <td>71</td>\n",
       "      <td>65</td>\n",
       "      <td>19</td>\n",
       "      <td>16</td>\n",
       "      <td>41</td>\n",
       "      <td>14</td>\n",
       "      <td>7</td>\n",
       "      <td>16</td>\n",
       "      <td>475</td>\n",
       "      <td>0.059116684</td>\n",
       "      <td>...</td>\n",
       "      <td>0.121360816</td>\n",
       "      <td>-1.0237797</td>\n",
       "      <td>-0.38299266</td>\n",
       "      <td>-0.28531605</td>\n",
       "      <td>0.60456675</td>\n",
       "      <td>0.21088573</td>\n",
       "      <td>0.19139396</td>\n",
       "      <td>0.016843403</td>\n",
       "      <td>0.12979959</td>\n",
       "      <td>-0.61656046</td>\n",
       "    </tr>\n",
       "  </tbody>\n",
       "</table>\n",
       "<p>5 rows × 777 columns</p>\n",
       "</div>"
      ],
      "text/plain": [
       "   NOUN  VERB  ADJ  ADV  PRON  PER  ORG  LOC  token_count        emb_0  ...  \\\n",
       "0    70    63   32   30    49   19   38   13          621   0.49166468  ...   \n",
       "1    60    32   24   11    15   23   15   10          352    0.7399958  ...   \n",
       "2   113    78   31   23    70   22   31   13          710   0.87741137  ...   \n",
       "3    82    55   18   26    30   26    9    5          541   0.75685537  ...   \n",
       "4    71    65   19   16    41   14    7   16          475  0.059116684  ...   \n",
       "\n",
       "       emb_758     emb_759      emb_760      emb_761     emb_762      emb_763  \\\n",
       "0  -0.99469244  -0.9691234   -1.1756288  -0.28396177  0.38695464  -0.21877588   \n",
       "1   -1.0174954  -1.4178197   -1.3892937  -0.14997888  0.47479692  -0.29169118   \n",
       "2  -0.74752975  -1.3563344   -1.4687192  -0.24174379  0.39115188   -0.2931207   \n",
       "3  -0.69399625  -1.4524714   -1.4473013  -0.24620362   0.3863606  -0.24031949   \n",
       "4  0.121360816  -1.0237797  -0.38299266  -0.28531605  0.60456675   0.21088573   \n",
       "\n",
       "       emb_764      emb_765      emb_766       emb_767  \n",
       "0  -0.36717254  -0.67960757  -0.73541623   -0.17068739  \n",
       "1   -0.5290003   -1.0338486   -0.9278441  -0.025926411  \n",
       "2  -0.64882225  -0.80387855    -0.960147   -0.11864097  \n",
       "3   -0.7331426   -1.1221443     -1.04414  -0.008274795  \n",
       "4   0.19139396  0.016843403   0.12979959   -0.61656046  \n",
       "\n",
       "[5 rows x 777 columns]"
      ]
     },
     "execution_count": 18,
     "metadata": {},
     "output_type": "execute_result"
    }
   ],
   "source": [
    "fake_df.head()"
   ]
  },
  {
   "cell_type": "code",
   "execution_count": 19,
   "metadata": {},
   "outputs": [],
   "source": [
    "real_features = []\n",
    "for doc in nlp.pipe(real_articles, batch_size=64):\n",
    "    features = get_features(doc)\n",
    "    real_features.append(features)\n",
    "\n",
    "real_df = pd.DataFrame(real_features)"
   ]
  },
  {
   "cell_type": "code",
   "execution_count": 20,
   "metadata": {},
   "outputs": [
    {
     "data": {
      "text/plain": [
       "(21417, 777)"
      ]
     },
     "execution_count": 20,
     "metadata": {},
     "output_type": "execute_result"
    }
   ],
   "source": [
    "real_df.shape"
   ]
  },
  {
   "cell_type": "code",
   "execution_count": 21,
   "metadata": {},
   "outputs": [
    {
     "data": {
      "text/html": [
       "<div>\n",
       "<style scoped>\n",
       "    .dataframe tbody tr th:only-of-type {\n",
       "        vertical-align: middle;\n",
       "    }\n",
       "\n",
       "    .dataframe tbody tr th {\n",
       "        vertical-align: top;\n",
       "    }\n",
       "\n",
       "    .dataframe thead th {\n",
       "        text-align: right;\n",
       "    }\n",
       "</style>\n",
       "<table border=\"1\" class=\"dataframe\">\n",
       "  <thead>\n",
       "    <tr style=\"text-align: right;\">\n",
       "      <th></th>\n",
       "      <th>NOUN</th>\n",
       "      <th>VERB</th>\n",
       "      <th>ADJ</th>\n",
       "      <th>ADV</th>\n",
       "      <th>PRON</th>\n",
       "      <th>PER</th>\n",
       "      <th>ORG</th>\n",
       "      <th>LOC</th>\n",
       "      <th>token_count</th>\n",
       "      <th>emb_0</th>\n",
       "      <th>...</th>\n",
       "      <th>emb_758</th>\n",
       "      <th>emb_759</th>\n",
       "      <th>emb_760</th>\n",
       "      <th>emb_761</th>\n",
       "      <th>emb_762</th>\n",
       "      <th>emb_763</th>\n",
       "      <th>emb_764</th>\n",
       "      <th>emb_765</th>\n",
       "      <th>emb_766</th>\n",
       "      <th>emb_767</th>\n",
       "    </tr>\n",
       "  </thead>\n",
       "  <tbody>\n",
       "    <tr>\n",
       "      <th>0</th>\n",
       "      <td>167</td>\n",
       "      <td>104</td>\n",
       "      <td>61</td>\n",
       "      <td>27</td>\n",
       "      <td>38</td>\n",
       "      <td>9</td>\n",
       "      <td>42</td>\n",
       "      <td>15</td>\n",
       "      <td>882</td>\n",
       "      <td>-0.34478572</td>\n",
       "      <td>...</td>\n",
       "      <td>1.1484325</td>\n",
       "      <td>0.96233004</td>\n",
       "      <td>1.4939576</td>\n",
       "      <td>0.02855343</td>\n",
       "      <td>-0.56160927</td>\n",
       "      <td>0.03955583</td>\n",
       "      <td>0.24786349</td>\n",
       "      <td>0.7841359</td>\n",
       "      <td>1.0551856</td>\n",
       "      <td>-0.011685535</td>\n",
       "    </tr>\n",
       "    <tr>\n",
       "      <th>1</th>\n",
       "      <td>151</td>\n",
       "      <td>103</td>\n",
       "      <td>38</td>\n",
       "      <td>14</td>\n",
       "      <td>25</td>\n",
       "      <td>12</td>\n",
       "      <td>26</td>\n",
       "      <td>11</td>\n",
       "      <td>711</td>\n",
       "      <td>-0.47281256</td>\n",
       "      <td>...</td>\n",
       "      <td>1.0105367</td>\n",
       "      <td>0.9513012</td>\n",
       "      <td>1.5497067</td>\n",
       "      <td>-0.04653076</td>\n",
       "      <td>-0.32387793</td>\n",
       "      <td>0.07917192</td>\n",
       "      <td>0.105632976</td>\n",
       "      <td>1.0099013</td>\n",
       "      <td>1.3343059</td>\n",
       "      <td>0.09810337</td>\n",
       "    </tr>\n",
       "    <tr>\n",
       "      <th>2</th>\n",
       "      <td>89</td>\n",
       "      <td>60</td>\n",
       "      <td>29</td>\n",
       "      <td>6</td>\n",
       "      <td>38</td>\n",
       "      <td>16</td>\n",
       "      <td>24</td>\n",
       "      <td>18</td>\n",
       "      <td>519</td>\n",
       "      <td>-0.35205472</td>\n",
       "      <td>...</td>\n",
       "      <td>0.8666072</td>\n",
       "      <td>0.89774895</td>\n",
       "      <td>1.3697631</td>\n",
       "      <td>0.11708815</td>\n",
       "      <td>-0.4107434</td>\n",
       "      <td>0.11244487</td>\n",
       "      <td>0.20330209</td>\n",
       "      <td>1.0099039</td>\n",
       "      <td>1.0146673</td>\n",
       "      <td>0.049866267</td>\n",
       "    </tr>\n",
       "    <tr>\n",
       "      <th>3</th>\n",
       "      <td>74</td>\n",
       "      <td>47</td>\n",
       "      <td>26</td>\n",
       "      <td>11</td>\n",
       "      <td>18</td>\n",
       "      <td>16</td>\n",
       "      <td>16</td>\n",
       "      <td>30</td>\n",
       "      <td>432</td>\n",
       "      <td>-0.4820314</td>\n",
       "      <td>...</td>\n",
       "      <td>0.90372217</td>\n",
       "      <td>1.1081113</td>\n",
       "      <td>1.5619082</td>\n",
       "      <td>-0.089562096</td>\n",
       "      <td>-0.5314894</td>\n",
       "      <td>0.28768918</td>\n",
       "      <td>0.18642981</td>\n",
       "      <td>0.7435344</td>\n",
       "      <td>1.1432315</td>\n",
       "      <td>0.109753005</td>\n",
       "    </tr>\n",
       "    <tr>\n",
       "      <th>4</th>\n",
       "      <td>227</td>\n",
       "      <td>83</td>\n",
       "      <td>67</td>\n",
       "      <td>33</td>\n",
       "      <td>40</td>\n",
       "      <td>11</td>\n",
       "      <td>64</td>\n",
       "      <td>23</td>\n",
       "      <td>990</td>\n",
       "      <td>-0.39500818</td>\n",
       "      <td>...</td>\n",
       "      <td>1.064916</td>\n",
       "      <td>0.9793283</td>\n",
       "      <td>1.4728062</td>\n",
       "      <td>0.005544428</td>\n",
       "      <td>-0.48552608</td>\n",
       "      <td>0.03723717</td>\n",
       "      <td>0.0794876</td>\n",
       "      <td>0.95452595</td>\n",
       "      <td>1.2365569</td>\n",
       "      <td>0.041941077</td>\n",
       "    </tr>\n",
       "  </tbody>\n",
       "</table>\n",
       "<p>5 rows × 777 columns</p>\n",
       "</div>"
      ],
      "text/plain": [
       "   NOUN  VERB  ADJ  ADV  PRON  PER  ORG  LOC  token_count        emb_0  ...  \\\n",
       "0   167   104   61   27    38    9   42   15          882  -0.34478572  ...   \n",
       "1   151   103   38   14    25   12   26   11          711  -0.47281256  ...   \n",
       "2    89    60   29    6    38   16   24   18          519  -0.35205472  ...   \n",
       "3    74    47   26   11    18   16   16   30          432   -0.4820314  ...   \n",
       "4   227    83   67   33    40   11   64   23          990  -0.39500818  ...   \n",
       "\n",
       "      emb_758     emb_759    emb_760       emb_761      emb_762     emb_763  \\\n",
       "0   1.1484325  0.96233004  1.4939576    0.02855343  -0.56160927  0.03955583   \n",
       "1   1.0105367   0.9513012  1.5497067   -0.04653076  -0.32387793  0.07917192   \n",
       "2   0.8666072  0.89774895  1.3697631    0.11708815   -0.4107434  0.11244487   \n",
       "3  0.90372217   1.1081113  1.5619082  -0.089562096   -0.5314894  0.28768918   \n",
       "4    1.064916   0.9793283  1.4728062   0.005544428  -0.48552608  0.03723717   \n",
       "\n",
       "       emb_764     emb_765    emb_766       emb_767  \n",
       "0   0.24786349   0.7841359  1.0551856  -0.011685535  \n",
       "1  0.105632976   1.0099013  1.3343059    0.09810337  \n",
       "2   0.20330209   1.0099039  1.0146673   0.049866267  \n",
       "3   0.18642981   0.7435344  1.1432315   0.109753005  \n",
       "4    0.0794876  0.95452595  1.2365569   0.041941077  \n",
       "\n",
       "[5 rows x 777 columns]"
      ]
     },
     "execution_count": 21,
     "metadata": {},
     "output_type": "execute_result"
    }
   ],
   "source": [
    "real_df.head()"
   ]
  },
  {
   "cell_type": "code",
   "execution_count": 22,
   "metadata": {},
   "outputs": [],
   "source": [
    "fake_df.to_csv('fake_data.csv', index=False)\n",
    "real_df.to_csv('real_data.csv', index=False)"
   ]
  }
 ],
 "metadata": {
  "kernelspec": {
   "display_name": "ml",
   "language": "python",
   "name": "python3"
  },
  "language_info": {
   "codemirror_mode": {
    "name": "ipython",
    "version": 3
   },
   "file_extension": ".py",
   "mimetype": "text/x-python",
   "name": "python",
   "nbconvert_exporter": "python",
   "pygments_lexer": "ipython3",
   "version": "3.10.16"
  }
 },
 "nbformat": 4,
 "nbformat_minor": 2
}
