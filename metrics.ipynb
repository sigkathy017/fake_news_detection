{
 "cells": [
  {
   "cell_type": "code",
   "execution_count": 29,
   "metadata": {},
   "outputs": [],
   "source": [
    "import pandas as pd\n",
    "from pycaret.classification import *"
   ]
  },
  {
   "cell_type": "code",
   "execution_count": 30,
   "metadata": {},
   "outputs": [],
   "source": [
    "train_data = pd.read_csv('train_data.csv')\n",
    "test_data = pd.read_csv('test_data.csv')"
   ]
  },
  {
   "cell_type": "code",
   "execution_count": 31,
   "metadata": {},
   "outputs": [
    {
     "data": {
      "text/html": [
       "<div>\n",
       "<style scoped>\n",
       "    .dataframe tbody tr th:only-of-type {\n",
       "        vertical-align: middle;\n",
       "    }\n",
       "\n",
       "    .dataframe tbody tr th {\n",
       "        vertical-align: top;\n",
       "    }\n",
       "\n",
       "    .dataframe thead th {\n",
       "        text-align: right;\n",
       "    }\n",
       "</style>\n",
       "<table border=\"1\" class=\"dataframe\">\n",
       "  <thead>\n",
       "    <tr style=\"text-align: right;\">\n",
       "      <th></th>\n",
       "      <th>NOUN</th>\n",
       "      <th>VERB</th>\n",
       "      <th>ADJ</th>\n",
       "      <th>ADV</th>\n",
       "      <th>PRON</th>\n",
       "      <th>PER</th>\n",
       "      <th>ORG</th>\n",
       "      <th>LOC</th>\n",
       "      <th>token_count</th>\n",
       "      <th>emb_0</th>\n",
       "      <th>...</th>\n",
       "      <th>emb_759</th>\n",
       "      <th>emb_760</th>\n",
       "      <th>emb_761</th>\n",
       "      <th>emb_762</th>\n",
       "      <th>emb_763</th>\n",
       "      <th>emb_764</th>\n",
       "      <th>emb_765</th>\n",
       "      <th>emb_766</th>\n",
       "      <th>emb_767</th>\n",
       "      <th>label</th>\n",
       "    </tr>\n",
       "  </thead>\n",
       "  <tbody>\n",
       "    <tr>\n",
       "      <th>0</th>\n",
       "      <td>0.124263</td>\n",
       "      <td>0.122259</td>\n",
       "      <td>0.042089</td>\n",
       "      <td>0.052110</td>\n",
       "      <td>0.076161</td>\n",
       "      <td>0.010021</td>\n",
       "      <td>0.032068</td>\n",
       "      <td>0.018038</td>\n",
       "      <td>0.978073</td>\n",
       "      <td>0.001410</td>\n",
       "      <td>...</td>\n",
       "      <td>-0.002607</td>\n",
       "      <td>-0.003034</td>\n",
       "      <td>-0.000426</td>\n",
       "      <td>0.000676</td>\n",
       "      <td>-0.000512</td>\n",
       "      <td>-0.000825</td>\n",
       "      <td>-0.001530</td>\n",
       "      <td>-0.001618</td>\n",
       "      <td>-0.000102</td>\n",
       "      <td>1</td>\n",
       "    </tr>\n",
       "    <tr>\n",
       "      <th>1</th>\n",
       "      <td>0.168050</td>\n",
       "      <td>0.107091</td>\n",
       "      <td>0.052722</td>\n",
       "      <td>0.047779</td>\n",
       "      <td>0.084025</td>\n",
       "      <td>0.014828</td>\n",
       "      <td>0.028008</td>\n",
       "      <td>0.037894</td>\n",
       "      <td>0.972055</td>\n",
       "      <td>0.001030</td>\n",
       "      <td>...</td>\n",
       "      <td>-0.002251</td>\n",
       "      <td>-0.002276</td>\n",
       "      <td>-0.000270</td>\n",
       "      <td>0.000801</td>\n",
       "      <td>0.000031</td>\n",
       "      <td>-0.001069</td>\n",
       "      <td>-0.001134</td>\n",
       "      <td>-0.001045</td>\n",
       "      <td>0.000106</td>\n",
       "      <td>1</td>\n",
       "    </tr>\n",
       "    <tr>\n",
       "      <th>2</th>\n",
       "      <td>0.234344</td>\n",
       "      <td>0.095996</td>\n",
       "      <td>0.050822</td>\n",
       "      <td>0.016941</td>\n",
       "      <td>0.022587</td>\n",
       "      <td>0.014117</td>\n",
       "      <td>0.050822</td>\n",
       "      <td>0.016941</td>\n",
       "      <td>0.962787</td>\n",
       "      <td>-0.001759</td>\n",
       "      <td>...</td>\n",
       "      <td>0.002673</td>\n",
       "      <td>0.004030</td>\n",
       "      <td>0.000167</td>\n",
       "      <td>-0.001622</td>\n",
       "      <td>0.000076</td>\n",
       "      <td>0.000413</td>\n",
       "      <td>0.002017</td>\n",
       "      <td>0.003778</td>\n",
       "      <td>-0.000372</td>\n",
       "      <td>0</td>\n",
       "    </tr>\n",
       "    <tr>\n",
       "      <th>3</th>\n",
       "      <td>0.188901</td>\n",
       "      <td>0.023613</td>\n",
       "      <td>0.035419</td>\n",
       "      <td>0.005903</td>\n",
       "      <td>0.008855</td>\n",
       "      <td>0.014758</td>\n",
       "      <td>0.005903</td>\n",
       "      <td>0.005903</td>\n",
       "      <td>0.979922</td>\n",
       "      <td>-0.002702</td>\n",
       "      <td>...</td>\n",
       "      <td>-0.001718</td>\n",
       "      <td>-0.002547</td>\n",
       "      <td>0.001620</td>\n",
       "      <td>-0.000035</td>\n",
       "      <td>0.000632</td>\n",
       "      <td>-0.001960</td>\n",
       "      <td>-0.000514</td>\n",
       "      <td>-0.004210</td>\n",
       "      <td>0.001640</td>\n",
       "      <td>1</td>\n",
       "    </tr>\n",
       "    <tr>\n",
       "      <th>4</th>\n",
       "      <td>0.184281</td>\n",
       "      <td>0.092141</td>\n",
       "      <td>0.058635</td>\n",
       "      <td>0.050259</td>\n",
       "      <td>0.046070</td>\n",
       "      <td>0.037694</td>\n",
       "      <td>0.079576</td>\n",
       "      <td>0.012565</td>\n",
       "      <td>0.967476</td>\n",
       "      <td>0.003343</td>\n",
       "      <td>...</td>\n",
       "      <td>-0.005953</td>\n",
       "      <td>-0.006364</td>\n",
       "      <td>-0.000838</td>\n",
       "      <td>0.001792</td>\n",
       "      <td>-0.001230</td>\n",
       "      <td>-0.002467</td>\n",
       "      <td>-0.003998</td>\n",
       "      <td>-0.003714</td>\n",
       "      <td>-0.000700</td>\n",
       "      <td>1</td>\n",
       "    </tr>\n",
       "  </tbody>\n",
       "</table>\n",
       "<p>5 rows × 778 columns</p>\n",
       "</div>"
      ],
      "text/plain": [
       "       NOUN      VERB       ADJ       ADV      PRON       PER       ORG  \\\n",
       "0  0.124263  0.122259  0.042089  0.052110  0.076161  0.010021  0.032068   \n",
       "1  0.168050  0.107091  0.052722  0.047779  0.084025  0.014828  0.028008   \n",
       "2  0.234344  0.095996  0.050822  0.016941  0.022587  0.014117  0.050822   \n",
       "3  0.188901  0.023613  0.035419  0.005903  0.008855  0.014758  0.005903   \n",
       "4  0.184281  0.092141  0.058635  0.050259  0.046070  0.037694  0.079576   \n",
       "\n",
       "        LOC  token_count     emb_0  ...   emb_759   emb_760   emb_761  \\\n",
       "0  0.018038     0.978073  0.001410  ... -0.002607 -0.003034 -0.000426   \n",
       "1  0.037894     0.972055  0.001030  ... -0.002251 -0.002276 -0.000270   \n",
       "2  0.016941     0.962787 -0.001759  ...  0.002673  0.004030  0.000167   \n",
       "3  0.005903     0.979922 -0.002702  ... -0.001718 -0.002547  0.001620   \n",
       "4  0.012565     0.967476  0.003343  ... -0.005953 -0.006364 -0.000838   \n",
       "\n",
       "    emb_762   emb_763   emb_764   emb_765   emb_766   emb_767  label  \n",
       "0  0.000676 -0.000512 -0.000825 -0.001530 -0.001618 -0.000102      1  \n",
       "1  0.000801  0.000031 -0.001069 -0.001134 -0.001045  0.000106      1  \n",
       "2 -0.001622  0.000076  0.000413  0.002017  0.003778 -0.000372      0  \n",
       "3 -0.000035  0.000632 -0.001960 -0.000514 -0.004210  0.001640      1  \n",
       "4  0.001792 -0.001230 -0.002467 -0.003998 -0.003714 -0.000700      1  \n",
       "\n",
       "[5 rows x 778 columns]"
      ]
     },
     "execution_count": 31,
     "metadata": {},
     "output_type": "execute_result"
    }
   ],
   "source": [
    "test_data.head()"
   ]
  },
  {
   "cell_type": "code",
   "execution_count": 58,
   "metadata": {},
   "outputs": [],
   "source": [
    "from sklearn.metrics import confusion_matrix, classification_report, accuracy_score, f1_score"
   ]
  },
  {
   "cell_type": "code",
   "execution_count": 51,
   "metadata": {},
   "outputs": [],
   "source": [
    "X_test = test_data.drop('label', axis=1)\n",
    "y_test = test_data['label']"
   ]
  },
  {
   "cell_type": "code",
   "execution_count": 52,
   "metadata": {},
   "outputs": [
    {
     "name": "stdout",
     "output_type": "stream",
     "text": [
      "Transformation Pipeline and Model Successfully Loaded\n"
     ]
    }
   ],
   "source": [
    "model = load_model('lightgbm_model')"
   ]
  },
  {
   "cell_type": "code",
   "execution_count": 53,
   "metadata": {},
   "outputs": [],
   "source": [
    "y_pred = model.predict(X_test)"
   ]
  },
  {
   "cell_type": "code",
   "execution_count": 54,
   "metadata": {},
   "outputs": [
    {
     "data": {
      "text/plain": [
       "array([[3649,   14],\n",
       "       [  10, 3653]], dtype=int64)"
      ]
     },
     "execution_count": 54,
     "metadata": {},
     "output_type": "execute_result"
    }
   ],
   "source": [
    "confusion_matrix(y_test, y_pred)"
   ]
  },
  {
   "cell_type": "code",
   "execution_count": 55,
   "metadata": {},
   "outputs": [
    {
     "name": "stdout",
     "output_type": "stream",
     "text": [
      "              precision    recall  f1-score   support\n",
      "\n",
      "        Real       1.00      1.00      1.00      3663\n",
      "        Fake       1.00      1.00      1.00      3663\n",
      "\n",
      "    accuracy                           1.00      7326\n",
      "   macro avg       1.00      1.00      1.00      7326\n",
      "weighted avg       1.00      1.00      1.00      7326\n",
      "\n"
     ]
    }
   ],
   "source": [
    "target_names = ['Real', 'Fake']\n",
    "print(classification_report(y_test, y_pred, target_names=target_names))"
   ]
  },
  {
   "cell_type": "code",
   "execution_count": 57,
   "metadata": {},
   "outputs": [
    {
     "name": "stdout",
     "output_type": "stream",
     "text": [
      "0.9967239967239967\n"
     ]
    }
   ],
   "source": [
    "print(accuracy_score(y_test, y_pred))"
   ]
  },
  {
   "cell_type": "code",
   "execution_count": 59,
   "metadata": {},
   "outputs": [
    {
     "name": "stdout",
     "output_type": "stream",
     "text": [
      "0.9967257844474762\n"
     ]
    }
   ],
   "source": [
    "print(f1_score(y_test, y_pred))"
   ]
  }
 ],
 "metadata": {
  "kernelspec": {
   "display_name": "ml",
   "language": "python",
   "name": "python3"
  },
  "language_info": {
   "codemirror_mode": {
    "name": "ipython",
    "version": 3
   },
   "file_extension": ".py",
   "mimetype": "text/x-python",
   "name": "python",
   "nbconvert_exporter": "python",
   "pygments_lexer": "ipython3",
   "version": "3.10.16"
  }
 },
 "nbformat": 4,
 "nbformat_minor": 2
}
